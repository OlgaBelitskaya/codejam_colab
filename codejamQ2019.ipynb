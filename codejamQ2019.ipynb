{
  "cells": [
    {
      "cell_type": "markdown",
      "metadata": {
        "id": "D1ZyvbCoQStc"
      },
      "source": [
        "#  Codejam Qualification Round 2019"
      ]
    },
    {
      "cell_type": "markdown",
      "metadata": {
        "id": "Wc68edNEQStf"
      },
      "source": [
        "# Task 1 Foregone Solution\n",
        "\n",
        "$\\displaystyle{\\mathbb{\\color{steelblue}{Problem}}}$\n",
        "\n",
        "Someone just won the Code Jam lottery, and we owe them N jamcoins! \n",
        "\n",
        "However, when we tried to print out an oversized check, we encountered a problem. \n",
        "\n",
        "The value of N, which is an integer, includes at least one digit that is a 4... \n",
        "\n",
        "and the 4 key on the keyboard of our oversized check printer is broken.\n",
        "\n",
        "Fortunately, we have a workaround: \n",
        "\n",
        "we will send our winner two checks for positive integer amounts A and B, \n",
        "\n",
        "such that neither A nor B contains any digit that is a 4, and A + B = N. \n",
        "\n",
        "Please help us find any pair of values A and B that satisfy these conditions.\n",
        "\n",
        "$Input$\n",
        "\n",
        "The first line of the input gives the number of test cases, T. \n",
        "\n",
        "T test cases follow; each consists of one line with an integer N.\n",
        "\n",
        "$Output$\n",
        "\n",
        "For each test case, output one line containing `Case #x: A B`, \n",
        "\n",
        "where x is the test case number (starting from 1), and \n",
        "\n",
        "A and B are positive integers as described above.\n",
        "\n",
        "It is guaranteed that at least one solution exists. \n",
        "\n",
        "If there are multiple solutions, you may output any one of them. \n",
        "\n",
        "(See \"What if a test case has multiple correct solutions?\" in the Competing section of the FAQ. \n",
        "\n",
        "This information about multiple solutions will not be explicitly stated in the remainder of the 2019 contest.)\n",
        "\n",
        "$Limits$\n",
        "\n",
        "1 ≤ T ≤ 100.\n",
        "\n",
        "Time limit: 10 seconds per test set.\n",
        "\n",
        "Memory limit: 1GB.\n",
        "\n",
        "At least one of the digits of N is a 4.\n",
        "\n",
        "Test set 1 (Visible)\n",
        "\n",
        "1 < N < 105.\n",
        "\n",
        "Test set 2 (Visible)\n",
        "\n",
        "1 < N < 109.\n",
        "\n",
        "Solving the first two test sets for this problem should get you a long way toward advancing. \n",
        "\n",
        "The third test set is worth only 1 extra point, for extra fun and bragging rights!\n",
        "\n",
        "Test set 3 (Hidden)\n",
        "\n",
        "1 < N < 10100."
      ]
    },
    {
      "cell_type": "code",
      "source": [
        "'''\n",
        "Sample\n",
        "\n",
        "Input  \n",
        " \n",
        "3\n",
        "\n",
        "4\n",
        "940\n",
        "4444\n",
        "\n",
        "Output\n",
        "  \n",
        "Case #1: 2 2\n",
        "Case #2: 852 88\n",
        "Case #3: 667 3777\n",
        "'''"
      ],
      "metadata": {
        "id": "8vqZ6ssV32bm"
      },
      "execution_count": null,
      "outputs": []
    },
    {
      "cell_type": "code",
      "execution_count": null,
      "metadata": {
        "id": "_ylOWNguQStj",
        "outputId": "7be4e883-ce75-47f3-df71-8cad672b673d"
      },
      "outputs": [
        {
          "name": "stdout",
          "output_type": "stream",
          "text": [
            "3\n",
            "4\n",
            "Case #1:  1 3\n",
            "940\n",
            "Case #2:  910 30\n",
            "4444\n",
            "Case #3:  1111 3333\n"
          ]
        }
      ],
      "source": [
        "T = int(input())\n",
        "try:\n",
        "    for i in range(T):\n",
        "        S = input()\n",
        "        A = ''\n",
        "        for j in range(1,len(S)+1):\n",
        "            if int(S[-j]) == 4:\n",
        "                A = '1' + A\n",
        "            else:\n",
        "                A = S[-j] + A\n",
        "        B = str(int(S) - int(A))\n",
        "        print('Case #{}: '.format(i+1), A, B)\n",
        "except StopIteration: pass"
      ]
    },
    {
      "cell_type": "markdown",
      "metadata": {
        "id": "KoODCKgvQStl"
      },
      "source": [
        "# Task 2 You Can Go Your Own Way\n",
        "\n",
        "$\\displaystyle{\\mathbb{\\color{steelblue}{Problem}}}$\n",
        "\n",
        "You have just entered the world's easiest maze. \n",
        "\n",
        "You start in the northwest cell of an N by N grid of unit cells, and you must reach the southeast cell. \n",
        "\n",
        "You have only two types of moves available: a unit move to the east, and a unit move to the south. \n",
        "\n",
        "You can move into any cell, but you may not make a move that would cause you to leave the grid.\n",
        "\n",
        "You are excited to be the first in the world to solve the maze, but then you see footprints. \n",
        "\n",
        "Your rival, Labyrinth Lydia, has already solved the maze before you, using the same rules described above!\n",
        "\n",
        "As an original thinker, you do not want to reuse any of Lydia's moves. \n",
        "\n",
        "Specifically, if her path includes a unit move from some cell A to some adjacent cell B, \n",
        "\n",
        "your path cannot also include a move from A to B.\n",
        "\n",
        "(However, in that case, it is OK for your path to visit A or visit B, as long as you do not go from A to B.) \n",
        "\n",
        "Please find such a path.\n",
        "\n",
        "In the following picture, Lydia's path is indicated in blue, \n",
        "\n",
        "and one possible valid path for you is indicated in orange:\n",
        "\n",
        "$Input$\n",
        "\n",
        "The first line of the input gives the number of test cases, T. \n",
        "\n",
        "T test cases follow; each case consists of two lines. \n",
        "\n",
        "The first line contains one integer N, giving the dimensions of the maze, as described above. \n",
        "\n",
        "The second line contains a string P of 2N - 2 characters,\n",
        "\n",
        "each of which is either uppercase E (for east) or uppercase S (for south), \n",
        "\n",
        "representing Lydia's valid path through the maze.\n",
        "\n",
        "$Output$\n",
        "\n",
        "For each test case, output one line containing `Case #x: y`, \n",
        "\n",
        "where x is the test case number (starting from 1) and \n",
        "\n",
        "y is a string of 2N - 2 characters each of which is either uppercase E (for east) or uppercase S (for south),\n",
        "\n",
        "representing your valid path through the maze that does not conflict with Lydia's path, as described above. \n",
        "\n",
        "It is guaranteed that at least one answer exists.\n",
        "\n",
        "$Limits$\n",
        "\n",
        "1 ≤ T ≤ 100.\n",
        "\n",
        "Time limit: 15 seconds per test set.\n",
        "\n",
        "Memory limit: 1GB.\n",
        "\n",
        "P contains exactly N - 1 E characters and exactly N - 1 S characters.\n",
        "\n",
        "Test set 1 (Visible)\n",
        "\n",
        "2 ≤ N ≤ 10.\n",
        "\n",
        "Test set 2 (Visible)\n",
        "\n",
        "2 ≤ N ≤ 1000.\n",
        "\n",
        "Test set 3 (Hidden)\n",
        "\n",
        "For at most 10 cases, 2 ≤ N ≤ 50000.\n",
        "\n",
        "For all other cases, 2 ≤ N ≤ 10000.\n",
        "\n",
        "\n",
        "In `Sample Case #1`, the maze is so small that there is only one valid solution left for us.\n",
        "\n",
        "`Sample Case #2 `corresponds to the picture above. \n",
        "\n",
        "Notice that it is acceptable for the paths to cross."
      ]
    },
    {
      "cell_type": "code",
      "source": [
        "\"\"\"\n",
        "Sample\n",
        "\n",
        "Input \n",
        " \n",
        "2\n",
        "2\n",
        "SE\n",
        "5\n",
        "EESSSESE\n",
        "\n",
        "Output\n",
        "\n",
        "Case #1: ES\n",
        "Case #2: SEEESSES\n",
        "\"\"\""
      ],
      "metadata": {
        "id": "MP3T8hiZDQah"
      },
      "execution_count": null,
      "outputs": []
    },
    {
      "cell_type": "code",
      "execution_count": null,
      "metadata": {
        "id": "tdwlaxtfQSto",
        "outputId": "3bad9bbe-cfce-4ac2-eb55-fa727aebb76d"
      },
      "outputs": [
        {
          "name": "stdout",
          "output_type": "stream",
          "text": [
            "2\n",
            "2\n",
            "SE\n",
            "Case #1:  ES\n",
            "5\n",
            "EESSSESE\n",
            "Case #2:  SSEEESES\n"
          ]
        }
      ],
      "source": [
        "T = int(input())\n",
        "try:\n",
        "    for i in range(T):\n",
        "        L = int(input())\n",
        "        S = input()\n",
        "        W = S.replace('S','L').replace('E','S').replace('L','E')\n",
        "        print('Case #{}: '.format(i+1), W)\n",
        "except StopIteration: pass"
      ]
    },
    {
      "cell_type": "markdown",
      "metadata": {
        "id": "FKLensCPQSts"
      },
      "source": [
        "# Task 3 Cryptopangrams (10pts, 15pts)\n",
        "\n",
        "$\\displaystyle{\\mathbb{\\color{steelblue}{Problem}}}$\n",
        "\n",
        "On the Code Jam team, we enjoy sending each other pangrams, \n",
        "\n",
        "which are phrases that use each letter of the English alphabet at least once. \n",
        "\n",
        "One common example of a pangram is \"the quick brown fox jumps over the lazy dog\". \n",
        "\n",
        "Sometimes our pangrams contain confidential information — for example, CJ QUIZ: \n",
        "\n",
        "KNOW BEVY OF DP FLUX ALGORITHMS — so we need to keep them secure.\n",
        "\n",
        "We looked through a cryptography textbook for a few minutes, \n",
        "\n",
        "and we learned that it is very hard to factor products of two large prime numbers, \n",
        "\n",
        "so we devised an encryption scheme based on that fact. \n",
        "\n",
        "First, we made some preparations:\n",
        "\n",
        "We chose 26 different prime numbers, none of which is larger than some integer N.\n",
        "\n",
        "We sorted those primes in increasing order. \n",
        "\n",
        "Then, we assigned the smallest prime to the letter A, \n",
        "\n",
        "the second smallest prime to the letter B, and so on.\n",
        "\n",
        "Everyone on the team memorized this list.\n",
        "\n",
        "Now, whenever we want to send a pangram as a message, \n",
        "\n",
        "we first remove all spacing to form a plaintext message. \n",
        "\n",
        "Then we write down the product of the prime for the first letter of the plaintext and \n",
        "\n",
        "the prime for the second letter of the plaintext. \n",
        "\n",
        "Then we write down the product of the primes for the second and third plaintext letters, and so on, \n",
        "\n",
        "ending with the product of the primes for the next-to-last and last plaintext letters. \n",
        "\n",
        "This new list of values is our ciphertext. \n",
        "\n",
        "The number of values is one smaller than the number of characters in the plaintext message.\n",
        "\n",
        "For example, suppose that N = 103 and we chose to use the first 26 odd prime numbers, \n",
        "\n",
        "because we worry that it is too easy to factor even numbers. \n",
        "\n",
        "Then A = 3, B = 5, C = 7, D = 11, and so on, up to Z = 103. \n",
        "\n",
        "Also suppose that we want to encrypt the CJ QUIZ... pangram above, \n",
        "\n",
        "so our plaintext is `CJQUIZKNOWBEVYOFDPFLUXALGORITHMS`. \n",
        "\n",
        "Then the first value in our ciphertext is 7 (the prime for C) times 31 (the prime for J) = 217; \n",
        "\n",
        "the next value is 1891, and so on, ending with 3053.\n",
        "\n",
        "We will give you a ciphertext message and the value of N that we used. \n",
        "\n",
        "We will not tell you which primes we used, or how to decrypt the ciphertext. \n",
        "\n",
        "Do you think you can recover the plaintext anyway?\n",
        "\n",
        "$Input$\n",
        "\n",
        "The first line of the input gives the number of test cases, T. \n",
        "\n",
        "T test cases follow; each test case consists of two lines. \n",
        "\n",
        "The first line contains two integers: \n",
        "\n",
        "N, as described above, and L, the length of the list of values in the ciphertext. \n",
        "\n",
        "The second line contains L integers: the list of values in the ciphertext.\n",
        "\n",
        "$Output$\n",
        "\n",
        "For each test case, output one line containing \n",
        "\n",
        "`Case #x: y`, \n",
        "\n",
        "where x is the test case number (starting from 1) and y is a string of L + 1 \n",
        "\n",
        "uppercase English alphabet letters: the plaintext.\n",
        "\n",
        "$Limits$\n",
        "\n",
        "1 ≤ T ≤ 100.\n",
        "\n",
        "Time limit: 20 seconds per test set.\n",
        "\n",
        "Memory limit: 1 GB.\n",
        "\n",
        "25 ≤ L ≤ 100.\n",
        "\n",
        "The plaintext contains each English alphabet letter at least once.\n",
        "\n",
        "Test set 1 (Visible)\n",
        "\n",
        "101 ≤ N ≤ 10000.\n",
        "\n",
        "Test set 2 (Hidden)\n",
        "\n",
        "101 ≤ N ≤ 10100.\n",
        "\n",
        "$Sample$\n",
        "\n",
        "$Input$ \n",
        " \t\n",
        "2\n",
        "\n",
        "103 31\n",
        "\n",
        "217 1891 4819 2291 2987 3811 1739 2491 4717 445 65 1079 8383 5353 901 187 649 1003 697 3239 7663 291 123 779 1007 3551 1943 2117 1679 989 3053\n",
        "\n",
        "10000 25\n",
        "\n",
        "3292937 175597 18779 50429 375469 1651121 2102 3722 2376497 611683 489059 2328901 3150061 829981 421301 76409 38477 291931 730241 959821 1664197 3057407 4267589 4729181 5335543\n",
        "\n",
        "$Output$\n",
        " \n",
        "Case #1: CJQUIZKNOWBEVYOFDPFLUXALGORITHMS\n",
        "\n",
        "Case #2: SUBDERMATOGLYPHICFJKNQVWXZ\n"
      ]
    },
    {
      "cell_type": "code",
      "execution_count": null,
      "metadata": {
        "id": "_xRyBloGQStx"
      },
      "outputs": [],
      "source": [
        "T = int(input())\n",
        "Letters = list('ABCDEFGHIJKLMNOPQRSTUVWXYZ')\n",
        "for i in range(T):\n",
        "    S1 = input().split()\n",
        "    P,N = int(S1[0]),int(S1[1])\n",
        "    S2 = input().split()\n",
        "    for p in range(2, int(int(S2[0])**0.5)+1):\n",
        "        if int(S2[0]) % p == 0:\n",
        "            primes = [p]\n",
        "            primes_unique = primes\n",
        "            break\n",
        "    p = int(int(S2[0]) / primes[0])\n",
        "    if int(S2[1]) % primes[0] == 0:\n",
        "        primes = [p] + primes\n",
        "    else:\n",
        "        primes = primes + [p]\n",
        "    if p not in primes_unique:\n",
        "        primes_unique.append(p) \n",
        "        \n",
        "    for j in range(1,N):\n",
        "        p = int(int(S2[j]) / primes[j])\n",
        "        primes.append(p) \n",
        "        if p not in primes_unique:\n",
        "            primes_unique.append(p)\n",
        "    D = dict(zip(sorted(primes_unique),Letters))\n",
        "    S=''\n",
        "    for el in primes:\n",
        "        S += D[el]\n",
        "    print('Case #{}:'.format(i+1), S)"
      ]
    },
    {
      "cell_type": "code",
      "execution_count": null,
      "metadata": {
        "id": "Yoy2qCrFQStz"
      },
      "outputs": [],
      "source": [
        "import numpy as np\n",
        "Letters = list('ABCDEFGHIJKLMNOPQRSTUVWXYZ')\n",
        "T = int(input())\n",
        "try:\n",
        "    for k in range(T):\n",
        "        S1 = input().split()\n",
        "        P,N = int(S1[0]),int(S1[1])\n",
        "        S2 = input().split()\n",
        "        s = np.ones(int((P+1)/2), dtype=np.bool)\n",
        "        for i in range(3,int((P+1)**0.5)+1,2):\n",
        "            if s[int(i/2)]:\n",
        "                s[int(i*i/2)::i] = False\n",
        "        Primes = np.r_[2, 2*np.nonzero(s)[0][1::]+1] \n",
        "        for p in Primes:\n",
        "            if int(S2[0]) % p == 0:\n",
        "                primes = [p]\n",
        "                break\n",
        "        p = int(int(S2[0]) / primes[0])\n",
        "        if int(S2[1]) % primes[0] == 0:\n",
        "            primes = [p] + primes\n",
        "        else:\n",
        "            primes = primes + [p]\n",
        "            \n",
        "        for j in range(1,N):\n",
        "            p = int(int(S2[j]) / primes[j])\n",
        "            primes.append(p) \n",
        "            \n",
        "        primes_unique, indices = np.unique(primes, return_inverse=True)\n",
        "        S=''\n",
        "        for ind in indices:\n",
        "            S += Letters[ind]\n",
        "        print('Case #{}:'.format(k+1), S)            \n",
        "except StopIteration: pass"
      ]
    },
    {
      "cell_type": "markdown",
      "metadata": {
        "id": "ybaKpvl9QSt1"
      },
      "source": [
        "2\n",
        "\n",
        "103 31\n",
        "\n",
        "217 1891 4819 2291 2987 3811 1739 2491 4717 445 65 1079 8383 5353 901 187 649 1003 697 3239 7663 291 123 779 1007 3551 1943 2117 1679 989 3053\n",
        "\n",
        "10000 25\n",
        "\n",
        "3292937 175597 18779 50429 375469 1651121 2102 3722 2376497 611683 489059 2328901 3150061 829981 421301 76409 38477 291931 730241 959821 1664197 3057407 4267589 4729181 5335543"
      ]
    },
    {
      "cell_type": "code",
      "execution_count": null,
      "metadata": {
        "id": "ddBa_8-fQSt2",
        "outputId": "522c4c12-6a9f-4664-af8d-f3d4206025a1"
      },
      "outputs": [
        {
          "data": {
            "text/plain": [
              "array([  2,   3,   5,   7,  11,  13,  17,  19,  23,  29,  31,  37,  41,\n",
              "        43,  47,  53,  59,  61,  67,  71,  73,  79,  83,  89,  97, 101,\n",
              "       103])"
            ]
          },
          "execution_count": 201,
          "metadata": {},
          "output_type": "execute_result"
        }
      ],
      "source": [
        "import numpy as np\n",
        "N = 103\n",
        "s = np.ones(int((N+1)/2), dtype=np.bool)\n",
        "for i in range(3,int((N+1)**0.5)+1,2):\n",
        "    if s[int(i/2)]:\n",
        "        s[int(i*i/2)::i] = False\n",
        "Primes = np.r_[2, 2*np.nonzero(s)[0][1::]+1]  \n",
        "Primes"
      ]
    },
    {
      "cell_type": "code",
      "source": [
        "def isprime(num):\n",
        "    if num in [0,1]:\n",
        "        return False\n",
        "    for x in range(2,num):\n",
        "        if num%x==0:\n",
        "            return False\n",
        "    else:\n",
        "        return True\n",
        "for i in range(20):\n",
        "    print(i,isprime(i))\n"
      ],
      "metadata": {
        "colab": {
          "base_uri": "https://localhost:8080/"
        },
        "id": "RQxRYB3DvLBv",
        "outputId": "eeff3f3f-5319-4cfb-8f60-3c01074be76c"
      },
      "execution_count": null,
      "outputs": [
        {
          "output_type": "stream",
          "name": "stdout",
          "text": [
            "0 False\n",
            "1 False\n",
            "2 True\n",
            "3 True\n",
            "4 False\n",
            "5 True\n",
            "6 False\n",
            "7 True\n",
            "8 False\n",
            "9 False\n",
            "10 False\n",
            "11 True\n",
            "12 False\n",
            "13 True\n",
            "14 False\n",
            "15 False\n",
            "16 False\n",
            "17 True\n",
            "18 False\n",
            "19 True\n"
          ]
        }
      ]
    },
    {
      "cell_type": "code",
      "source": [
        "def isprime(num):\n",
        "    if num in [0,1]:\n",
        "        return False\n",
        "    for x in range(2,num):\n",
        "        if num%x==0:\n",
        "            return False\n",
        "    else:\n",
        "        return True\n",
        "def prime_list0(max_num,count):\n",
        "    pl=[max_num]\n",
        "    c,curr_num=1,max_num\n",
        "    while c<count:\n",
        "        curr_num-=2\n",
        "        if isprime(curr_num):\n",
        "            pl=[curr_num]+pl\n",
        "            c+=1\n",
        "    return pl\n",
        "max_num,count=103,26\n",
        "pl=prime_list0(max_num,count)\n",
        "print(pl)"
      ],
      "metadata": {
        "colab": {
          "base_uri": "https://localhost:8080/"
        },
        "id": "JRAjixzmre1T",
        "outputId": "6dfdecd7-a79b-4bc5-ba6f-4515feb988e5"
      },
      "execution_count": null,
      "outputs": [
        {
          "output_type": "stream",
          "name": "stdout",
          "text": [
            "[3, 5, 7, 11, 13, 17, 19, 23, 29, 31, 37, 41, 43, 47, 53, 59, 61, 67, 71, 73, 79, 83, 89, 97, 101, 103]\n"
          ]
        }
      ]
    },
    {
      "cell_type": "code",
      "source": [
        "num_list=[217,1891,4819,2291,2987,3811,1739,\n",
        "          2491,4717,445,65,1079,8383,5353,901,\n",
        "          187,649,1003,697,3239,7663,291,123,\n",
        "          779,1007,3551,1943,2117,1679,989,3053]\n",
        "num_len=31\n",
        "def crypto0(max_num=max_num,num_len=num_len,num_list=num_list):\n",
        "    pl=prime_list(max_num,count=26)\n",
        "    ll=list('ABCDEFGHIJKLMNOPQRSTUVWXYZ')\n",
        "    dl=dict(zip(pl,ll))\n",
        "    for p in pl:\n",
        "        if num_list[0]%p==0:\n",
        "            break\n",
        "    crypto_list=dl[p]\n",
        "    for i in range(num_len):\n",
        "        crypto_list+=dl[num_list[i]//p]\n",
        "        p=num_list[i]//p\n",
        "    return crypto_list\n",
        "\n",
        "crypto()"
      ],
      "metadata": {
        "id": "Lmtlltl40z_E"
      },
      "execution_count": null,
      "outputs": []
    },
    {
      "cell_type": "code",
      "source": [
        "num_list=[3292937,175597,18779,50429,375469,1651121,2102,\n",
        "          3722,2376497,611683,489059,2328901,3150061,\n",
        "          829981,421301,76409,38477,291931,730241,959821,\n",
        "          1664197,3057407,4267589,4729181,5335543]\n",
        "max_num,num_len=10000,25\n",
        "def prime_list(max_num=max_num):\n",
        "    while not isprime(max_num):\n",
        "        max_num-=1\n",
        "    pl=[max_num]\n",
        "    while max_num>2:\n",
        "        max_num-=2\n",
        "        if isprime(max_num):\n",
        "            pl=[max_num]+pl\n",
        "    return pl\n",
        "def crypto(max_num=max_num,num_len=num_len,num_list=num_list):\n",
        "    pl=prime_list(max_num)\n",
        "    for p in pl:\n",
        "        if num_list[0]%p==0:\n",
        "            break\n",
        "    crypto_list,prime_set=[p],[p]\n",
        "    for i in range(num_len):\n",
        "        crypto_list+=[num_list[i]//p]\n",
        "        p=num_list[i]//p\n",
        "        if p not in prime_set:\n",
        "            prime_set+=[p]\n",
        "    prime_set=sorted(prime_set)\n",
        "    letter_set=list('ABCDEFGHIJKLMNOPQRSTUVWXYZ')\n",
        "    dl=dict(zip(prime_set,letter_set))\n",
        "    crypto_str=''\n",
        "    for i in range(num_len):\n",
        "        crypto_str+=dl[crypto_list[i]]\n",
        "    return crypto_str\n",
        "crypto()"
      ],
      "metadata": {
        "colab": {
          "base_uri": "https://localhost:8080/",
          "height": 37
        },
        "id": "crmDv4n0QmnH",
        "outputId": "9b1a5f06-5485-4465-9cfd-2743e74bbf44"
      },
      "execution_count": null,
      "outputs": [
        {
          "output_type": "execute_result",
          "data": {
            "text/plain": [
              "'SUBDERMATOGLYPHICFJKNQVWX'"
            ],
            "application/vnd.google.colaboratory.intrinsic+json": {
              "type": "string"
            }
          },
          "metadata": {},
          "execution_count": 57
        }
      ]
    },
    {
      "cell_type": "code",
      "source": [
        "def isprime(num):\n",
        "    if num in [0,1]:\n",
        "        return False\n",
        "    for x in range(2,num):\n",
        "        if num%x==0:\n",
        "            return False\n",
        "    else:\n",
        "        return True\n",
        "def prime_list(max_num):\n",
        "    while not isprime(max_num):\n",
        "        max_num-=1\n",
        "    pl=[max_num]\n",
        "    while max_num>2:\n",
        "        max_num-=2\n",
        "        if isprime(max_num):\n",
        "            pl=[max_num]+pl\n",
        "    return pl\n",
        "def crypto(max_num,num_len,num_list):\n",
        "    pl=prime_list(max_num)\n",
        "    for p in pl:\n",
        "        if num_list[0]%p==0:\n",
        "            break\n",
        "    crypto_list,prime_set=[p],[p]\n",
        "    for i in range(num_len):\n",
        "        crypto_list+=[num_list[i]//p]\n",
        "        p=num_list[i]//p\n",
        "        if p not in prime_set:\n",
        "            prime_set+=[p]\n",
        "    prime_set=sorted(prime_set)\n",
        "    letter_set=list('ABCDEFGHIJKLMNOPQRSTUVWXYZ')\n",
        "    dl=dict(zip(prime_set,letter_set))\n",
        "    crypto_str=''\n",
        "    for i in range(num_len+1):\n",
        "        crypto_str+=dl[crypto_list[i]]\n",
        "    return crypto_str\n",
        "T=int(input())\n",
        "for t in range(T):\n",
        "    max_num,num_len=map(int,input().split())\n",
        "    num_list=list(map(int,input().split()))\n",
        "    ans=crypto(max_num,num_len,num_list)\n",
        "    print('Case #{}: {}'.format(t+1,ans))"
      ],
      "metadata": {
        "id": "e-n8BDTXLg44"
      },
      "execution_count": null,
      "outputs": []
    },
    {
      "cell_type": "code",
      "source": [
        "def replace_zero(num_list,num_len,crypto_list):\n",
        "    for i in range(num_len):\n",
        "        if (crypto_list[i]==0) and (crypto_list[i+1]!=0):\n",
        "            crypto_list[i]=num_list[i]//crypto_list[i+1]\n",
        "        if (crypto_list[i]!=0) and (crypto_list[i+1]==0):\n",
        "            crypto_list[i+1]=num_list[i+1]//crypto_list[i]\n",
        "    return crypto_list"
      ],
      "metadata": {
        "id": "_DfJu8LA-7RH"
      },
      "execution_count": null,
      "outputs": []
    },
    {
      "cell_type": "code",
      "source": [
        "num_list=[3292937,175597,18779,50429,375469,1651121,2102,\n",
        "          3722,2376497,611683,489059,2328901,3150061,\n",
        "          829981,421301,76409,38477,291931,730241,959821,\n",
        "          1664197,3057407,4267589,4729181,5335543]\n",
        "max_num,num_len=10000,25\n",
        "def eacd(a,b):\n",
        "    if b==0:\n",
        "        return a\n",
        "    else:\n",
        "        return eacd(b,a%b)\n",
        "def replace_zero(num_list,num_len,crypto_list):\n",
        "    for i in range(num_len):\n",
        "        if (crypto_list[i]==0) and (crypto_list[i+1]!=0):\n",
        "            crypto_list[i]=num_list[i]//crypto_list[i+1]\n",
        "        if (crypto_list[i]!=0) and (crypto_list[i+1]==0):\n",
        "            crypto_list[i+1]=num_list[i]//crypto_list[i]\n",
        "    return crypto_list\n",
        "def crypto_string(num_list,num_len):\n",
        "    crypto_list=(num_len+1)*[0]\n",
        "    for i in range(num_len-1):\n",
        "        if num_list[i]!=num_list[i+1]:\n",
        "            crypto_list[i+1]=eacd(num_list[i],num_list[i+1])\n",
        "    while 0 in crypto_list:\n",
        "        crypto_list=replace_zero(num_list,num_len,crypto_list)\n",
        "    prime_set=list(set(crypto_list))\n",
        "    prime_set.sort()\n",
        "    letter_set=list('ABCDEFGHIJKLMNOPQRSTUVWXYZ')\n",
        "    dl=dict(zip(prime_set,letter_set))\n",
        "    crypto_str=''\n",
        "    for i in range(num_len+1):\n",
        "        crypto_str+=dl[crypto_list[i]]\n",
        "    return crypto_str\n",
        "crypto_string(num_list,num_len)       "
      ],
      "metadata": {
        "colab": {
          "base_uri": "https://localhost:8080/",
          "height": 37
        },
        "id": "ZHLCVFf55hCq",
        "outputId": "caa6e64e-2e14-4f80-f7a6-d57fcd412c04"
      },
      "execution_count": null,
      "outputs": [
        {
          "output_type": "execute_result",
          "data": {
            "text/plain": [
              "'SUBDERMATOGLYPHICFJKNQVWXZ'"
            ],
            "application/vnd.google.colaboratory.intrinsic+json": {
              "type": "string"
            }
          },
          "metadata": {},
          "execution_count": 81
        }
      ]
    },
    {
      "cell_type": "code",
      "source": [
        "def eacd(a,b):\n",
        "    if b==0:\n",
        "        return a\n",
        "    else:\n",
        "        return eacd(b,a%b)\n",
        "def crypto_string(num_list,num_len):\n",
        "    p1=eacd(num_list[0],num_list[1])\n",
        "    p0=num_list[0]//p1\n",
        "    crypto_list=[p0,p1]\n",
        "    for i in range(1,num_len):\n",
        "        p1=num_list[i]//p1\n",
        "        crypto_list.append(p1)\n",
        "    prime_set=list(set(crypto_list))\n",
        "    prime_set.sort()\n",
        "    letter_set=list('ABCDEFGHIJKLMNOPQRSTUVWXYZ')\n",
        "    dl=dict(zip(prime_set,letter_set))\n",
        "    crypto_str=''\n",
        "    for i in range(num_len+1):\n",
        "        crypto_str+=dl[crypto_list[i]]\n",
        "    return crypto_str\n",
        "T=int(input())\n",
        "for t in range(T):\n",
        "    max_num,num_len=map(int,input().split())\n",
        "    num_list=list(map(int,input().split()))\n",
        "    answer=crypto_string(num_list,num_len)\n",
        "    print('Case #{}: {}'.format(t+1,answer))"
      ],
      "metadata": {
        "colab": {
          "base_uri": "https://localhost:8080/"
        },
        "id": "M2tgL0uagIrp",
        "outputId": "94a4e80c-6b05-4199-c5a2-4a7747f516f0"
      },
      "execution_count": null,
      "outputs": [
        {
          "output_type": "stream",
          "name": "stdout",
          "text": [
            "1\n",
            "103 31\n",
            "217 1891 4819 2291 2987 3811 1739 2491 4717 445 65 1079 8383 5353 901 187 649 1003 697 3239 7663 291 123 779 1007 3551 1943 2117 1679 989 3053\n",
            "Case #1: CJQUIZKNOWBEVYOFDPFLUXALGORITHMS\n"
          ]
        }
      ]
    },
    {
      "cell_type": "markdown",
      "metadata": {
        "id": "JSHybKETQSt3"
      },
      "source": [
        "# Task 4\n",
        "\n",
        "$\\displaystyle{\\mathbb{\\color{steelblue}{Problem}}}$\n",
        "\n",
        "A research consortium has built a new database system for their new data center. \n",
        "\n",
        "The database is made up of one master computer and N worker computers, which are given IDs from 0 to N-1. \n",
        "\n",
        "Each worker stores exactly one bit of information... \n",
        "\n",
        "which seems rather wasteful, but this is very important data!\n",
        "\n",
        "You have been hired to evaluate the following instruction for the database:\n",
        "\n",
        "TEST_STORE <bits>: \n",
        "\n",
        "The master reads in <bits>, which is a string of N bits, and sends the i-th bit to the i-th worker for storage.\n",
        "\n",
        "The master will then read the bits back from the workers and return them to the user, \n",
        "\n",
        "in the same order in which they were read in.\n",
        "\n",
        "During normal operation, TEST_STORE should return the same string of bits that it read in, \n",
        "\n",
        "but unfortunately, B of the workers are broken!\n",
        "\n",
        "The broken workers are correctly able to store the bits given to them, \n",
        "\n",
        "but whenever the master tries to read from a broken worker, no bit is returned. \n",
        "\n",
        "This causes the TEST_STORE operation to return only N-B bits, \n",
        "\n",
        "which are the bits stored on the non-broken workers (in ascending order of their IDs). \n",
        "\n",
        "For example, suppose N = 5 and the 0th and 3rd workers are broken (so B = 2). Then:\n",
        "\n",
        "`TEST_STORE 01101 returns 111`.\n",
        "\n",
        "`TEST_STORE 00110 returns 010`.\n",
        "\n",
        "`TEST_STORE 01010 returns 100`.\n",
        "\n",
        "`TEST_STORE 11010 also returns 100`.\n",
        "\n",
        "For security reasons, the database is hidden in an underground mountain vault, \n",
        "\n",
        "so calls to TEST_STORE take a very long time. \n",
        "\n",
        "You have been tasked with working out which workers are broken using at most F calls to TEST_STORE.\n",
        "\n",
        "$Input \\; and \\; output$\n",
        "\n",
        "This is an interactive problem. \n",
        "\n",
        "You should make sure you have read the information in the Interactive Problems section of our FAQ.\n",
        "\n",
        "Initially, your program should read a single line containing a single integer T indicating the number of test cases. \n",
        "\n",
        "Then, you need to process T test cases.\n",
        "\n",
        "For each test case, your program will first read a single line \n",
        "\n",
        "containing three integers N, B, and F,\n",
        "\n",
        "- indicating the number of workers, \n",
        "- the number of broken workers, \n",
        "- and the number of lines you may send \n",
        "\n",
        "(as described below).\n",
        "\n",
        "Then you may send the judge up to F lines, each containing a string of exactly N characters, each either 0 or 1. \n",
        "\n",
        "Each time you send a line, the judge will check that you have not made more than F calls. \n",
        "\n",
        "If you have, the judge will send you a single line containing a single -1, and then finish all communication and wait for your program to finish. \n",
        "\n",
        "Otherwise, the judge will send a string of length N-B: the string returned by TEST_STORE, as described above.\n",
        "\n",
        "Once your program knows the index of the B broken workers, \n",
        "\n",
        "it can finish the test case by sending B space-separated integers: \n",
        "\n",
        "the IDs of the broken workers, in sorted order. \n",
        "\n",
        "This does not count as one of your F calls.\n",
        "\n",
        "If the B integers are not exactly the IDs of the B broken workers, \n",
        "\n",
        "you will receive a Wrong Answer verdict, and the judge will send a single line containing -1, \n",
        "\n",
        "and then no additional communication. \n",
        "\n",
        "If your answer was correct, the judge will send a single line with 1, \n",
        "\n",
        "followed by the line that begins the next test case (or exit, if that was the last test case).\n",
        "\n",
        "$Limits$\n",
        "\n",
        "Time limit: 20 seconds per test set.\n",
        "\n",
        "Memory limit: 1GB.\n",
        "\n",
        "1 ≤ T ≤ 100.\n",
        "\n",
        "2 ≤ N ≤ 1024.\n",
        "\n",
        "1 ≤ B ≤ min(15, N-1).\n",
        "\n",
        "Test set 1 (Visible)\n",
        "\n",
        "F = 10.\n",
        "\n",
        "Test set 2 (Hidden)\n",
        "\n",
        "F = 5.\n"
      ]
    },
    {
      "cell_type": "code",
      "source": [
        "\"\"\"\n",
        "Testing Tool\n",
        "\n",
        "You can use this testing tool to test locally or on our servers. \n",
        "\n",
        "To test locally, you will need to run the tool in parallel with your code; \n",
        "\n",
        "you can use our interactive runner for that. \n",
        "\n",
        "For more information, read the Interactive Problems section of the FAQ.\n",
        "\n",
        "Local Testing Tool\n",
        "\n",
        "To better facilitate local testing, we provide you the following script. \n",
        "\n",
        "Instructions are included inside. \n",
        "\n",
        "You are encouraged to add more test cases for better testing. \n",
        "\n",
        "Please be advised that although the testing tool is intended \n",
        "\n",
        "to simulate the judging system, \n",
        "\n",
        "it is NOT the real judging system and might behave differently.\n",
        "\n",
        "If your code passes the testing tool but fails the real judge, \n",
        "\n",
        "please check here to make sure that you are using the same compiler as us.\n",
        "\"\"\""
      ],
      "metadata": {
        "id": "PD21_vD0O8Wa"
      },
      "execution_count": null,
      "outputs": []
    },
    {
      "cell_type": "code",
      "source": [
        "Sample Interaction\n",
        "\n",
        "The following interaction meets the limits for Test set 1.\n",
        "\n",
        "  t = readline_int()           // Reads 2 into t\n",
        "  n, b, f = readline_int_list()  // Reads 5, 2, 10 into n, b, f\n",
        "  printline 01101 to stdout    // The next four outputs match the example in\n",
        "                               // the problem statement.\n",
        "  flush stdout\n",
        "  response = readline_str()    // Reads 111 into response. (At this point, we\n",
        "                               // could determine the answer; the remaining\n",
        "                               // queries are just examples!)\n",
        "  printline 00110 to stdout\n",
        "  flush stdout\n",
        "  response = readline_str()    // Reads 010 into response\n",
        "  printline 01010 to stdout\n",
        "  flush stdout\n",
        "  response = readline_str()    // Reads 100 into response\n",
        "  printline 11010 to stdout\n",
        "  flush stdout\n",
        "  response = readline_str()    // Reads 100 into response\n",
        "  printline 0 3 to stdout      // Guesses the answer. Notice that we were\n",
        "                               // not required to use all 10 of our allowed\n",
        "                               // queries.\n",
        "  flush stdout\n",
        "  verdict = readline_int()     // Reads 1 into verdict. We got that test case\n",
        "                               // right!\n",
        "  n, b, f = readline_int_list()  // Reads 2, 1, 10 into n, b, f.\n",
        "  printline 01 to stdout       // 01 is a query, not a guess at the final\n",
        "                               // answer (if we wanted to guess that just\n",
        "                               // worker 1 were broken, we would have to\n",
        "                               // send 1 as we do below)\n",
        "  flush stdout\n",
        "  response = readline_str()    // Reads 1 into response.\n",
        "  printline 1 to stdout        // Makes a (bad) wild guess.\n",
        "  verdict = readline_str()     // Reads -1 into verdict.\n",
        "  exit                         // exits to avoid an ambiguous TLE error"
      ],
      "metadata": {
        "id": "NIO_V3IpPa79"
      },
      "execution_count": null,
      "outputs": []
    },
    {
      "cell_type": "code",
      "execution_count": null,
      "metadata": {
        "id": "jq164Q_NQSt6",
        "outputId": "75f1940a-029f-4422-c763-e1a49270602e"
      },
      "outputs": [
        {
          "name": "stdout",
          "output_type": "stream",
          "text": [
            "1\n",
            "5 2 10\n",
            "10001\n",
            "001\n",
            "11001\n",
            "101\n",
            "10101\n",
            "001\n",
            "10010\n",
            "010\n",
            "11110\n",
            "110\n",
            "10101\n",
            "001\n",
            "01010\n",
            "110\n",
            "00110\n",
            "010\n",
            "10101\n",
            "001\n",
            "00011\n",
            "011\n",
            "00001\n",
            "001\n",
            "-1\n"
          ]
        }
      ],
      "source": [
        "T = int(input())\n",
        "try:\n",
        "    for i in range(T):\n",
        "        S = input().split()\n",
        "        S = [int(s) for s in S]\n",
        "        N, B, F = S[0], S[1], S[2]\n",
        "        broken = [int(N/B) * i for i in range(B)]\n",
        "        correct = ' '.join([str(i+1) for i in range(N) if i not in broken])\n",
        "        j = 0\n",
        "        while j < F + 1:\n",
        "            if j == F:\n",
        "                print(-1, flush=True)\n",
        "                break\n",
        "            else:\n",
        "                string = input()\n",
        "                if len(string.split()) > 1:\n",
        "                    if string == correct:\n",
        "                        print(1, flush=True)\n",
        "                        break\n",
        "                    else:\n",
        "                        print(-1, flush=True)\n",
        "                        break                        \n",
        "                else:    \n",
        "                    answer = ''.join([string[i] for i in range(N) if i not in broken])\n",
        "                    print(answer, flush=True)\n",
        "                    j += 1\n",
        "except StopIteration: pass"
      ]
    },
    {
      "cell_type": "code",
      "execution_count": null,
      "metadata": {
        "id": "R4bI3NNiQSt7"
      },
      "outputs": [],
      "source": [
        "T =int(input())\n",
        "try:\n",
        "    for i in range(T):\n",
        "        S = input().split()\n",
        "        S = [int(s) for s in S]\n",
        "        N, B, F = S[0], S[1], S[2]\n",
        "except StopIteration: pass        "
      ]
    },
    {
      "cell_type": "markdown",
      "source": [
        "## Column Decoding"
      ],
      "metadata": {
        "id": "Bv_hPPXeRcUv"
      }
    },
    {
      "cell_type": "code",
      "source": [
        "def output_rows(N):\n",
        "    outr=[]\n",
        "    n=len(bin(N-1)[2:])\n",
        "    for i in range(N):\n",
        "        bi=bin(i)[2:]\n",
        "        bit=(n-len(bi))*'0'+bi\n",
        "        outr.append(bit)\n",
        "    return outr\n",
        "outr=output_rows(16)\n",
        "for r in outr:\n",
        "    print(r,'-',int(r,2))"
      ],
      "metadata": {
        "colab": {
          "base_uri": "https://localhost:8080/"
        },
        "id": "hSmMWOypc7x9",
        "outputId": "9463f387-2d71-45a8-f79e-177989ecb194"
      },
      "execution_count": null,
      "outputs": [
        {
          "output_type": "stream",
          "name": "stdout",
          "text": [
            "0000 - 0\n",
            "0001 - 1\n",
            "0010 - 2\n",
            "0011 - 3\n",
            "0100 - 4\n",
            "0101 - 5\n",
            "0110 - 6\n",
            "0111 - 7\n",
            "1000 - 8\n",
            "1001 - 9\n",
            "1010 - 10\n",
            "1011 - 11\n",
            "1100 - 12\n",
            "1101 - 13\n",
            "1110 - 14\n",
            "1111 - 15\n"
          ]
        }
      ]
    },
    {
      "cell_type": "code",
      "source": [
        "N,B=1024,15\n",
        "(N-1).bit_length(),B.bit_length()"
      ],
      "metadata": {
        "colab": {
          "base_uri": "https://localhost:8080/"
        },
        "id": "z2FlpMpKA55L",
        "outputId": "a23ed457-9adc-4575-ccc5-89b3b091b333"
      },
      "execution_count": null,
      "outputs": [
        {
          "output_type": "execute_result",
          "data": {
            "text/plain": [
              "(10, 4)"
            ]
          },
          "metadata": {},
          "execution_count": 7
        }
      ]
    },
    {
      "cell_type": "code",
      "source": [
        "M,F=1024,5; i=5\n",
        "Mb=(M-1).bit_length()\n",
        "for i in range(16,32):\n",
        "    print(format(i,'#0%db'%(Mb+2))[-F:])"
      ],
      "metadata": {
        "colab": {
          "base_uri": "https://localhost:8080/"
        },
        "id": "daOlIvHucV1S",
        "outputId": "d462ffd4-e65a-4d24-bb59-c058fb3c8085"
      },
      "execution_count": null,
      "outputs": [
        {
          "output_type": "stream",
          "name": "stdout",
          "text": [
            "10000\n",
            "10001\n",
            "10010\n",
            "10011\n",
            "10100\n",
            "10101\n",
            "10110\n",
            "10111\n",
            "11000\n",
            "11001\n",
            "11010\n",
            "11011\n",
            "11100\n",
            "11101\n",
            "11110\n",
            "11111\n"
          ]
        }
      ]
    },
    {
      "cell_type": "code",
      "source": [
        "N,B=32,15\n",
        "for j in range(B.bit_length()):\n",
        "    print([((i%(2**B.bit_length()))>>j)&1 for i in range(N)])"
      ],
      "metadata": {
        "colab": {
          "base_uri": "https://localhost:8080/"
        },
        "id": "47s1x2mpCWEY",
        "outputId": "67d8d59a-9cec-47e7-955b-f557d9b31362"
      },
      "execution_count": null,
      "outputs": [
        {
          "output_type": "stream",
          "name": "stdout",
          "text": [
            "[0, 1, 0, 1, 0, 1, 0, 1, 0, 1, 0, 1, 0, 1, 0, 1, 0, 1, 0, 1, 0, 1, 0, 1, 0, 1, 0, 1, 0, 1, 0, 1]\n",
            "[0, 0, 1, 1, 0, 0, 1, 1, 0, 0, 1, 1, 0, 0, 1, 1, 0, 0, 1, 1, 0, 0, 1, 1, 0, 0, 1, 1, 0, 0, 1, 1]\n",
            "[0, 0, 0, 0, 1, 1, 1, 1, 0, 0, 0, 0, 1, 1, 1, 1, 0, 0, 0, 0, 1, 1, 1, 1, 0, 0, 0, 0, 1, 1, 1, 1]\n",
            "[0, 0, 0, 0, 0, 0, 0, 0, 1, 1, 1, 1, 1, 1, 1, 1, 0, 0, 0, 0, 0, 0, 0, 0, 1, 1, 1, 1, 1, 1, 1, 1]\n"
          ]
        }
      ]
    },
    {
      "cell_type": "code",
      "source": [
        "N=1024\n",
        "Nb=(N-1).bit_length()\n",
        "outcols=[format(i,'#0%db'%(Nb+2))[2:] for i in range(N)]\n",
        "incols=N*['']\n",
        "outrows=[]\n",
        "for j in range(5):\n",
        "    outrow=''.join([outcols[i][Nb-j-1] for i in range(N)])\n",
        "    print(outrow[:100])\n",
        "    outrows.append(outrow[:77])"
      ],
      "metadata": {
        "colab": {
          "base_uri": "https://localhost:8080/"
        },
        "id": "jDxJ6fs6erpW",
        "outputId": "553997b5-4ec9-4e4c-ff88-7cef6fb6dd37"
      },
      "execution_count": null,
      "outputs": [
        {
          "output_type": "stream",
          "name": "stdout",
          "text": [
            "0101010101010101010101010101010101010101010101010101010101010101010101010101010101010101010101010101\n",
            "0011001100110011001100110011001100110011001100110011001100110011001100110011001100110011001100110011\n",
            "0000111100001111000011110000111100001111000011110000111100001111000011110000111100001111000011110000\n",
            "0000000011111111000000001111111100000000111111110000000011111111000000001111111100000000111111110000\n",
            "0000000000000000111111111111111100000000000000001111111111111111000000000000000011111111111111110000\n"
          ]
        }
      ]
    },
    {
      "cell_type": "code",
      "source": [
        "exp_result=[2,7,8,12,33,45,46,52,61,71,72,73,74,75,76]\n",
        "N,B,F=77,len(exp_result),5\n",
        "inrows=[''.join([outrows[i][j] for j in range(N) \n",
        "                 if j not in exp_result])\n",
        "        for i in range(F)]\n",
        "inrows"
      ],
      "metadata": {
        "id": "1LE7Z-pmFgFS",
        "colab": {
          "base_uri": "https://localhost:8080/"
        },
        "outputId": "cb6803cd-8ad4-422b-9e16-60092e7cf152"
      },
      "execution_count": null,
      "outputs": [
        {
          "output_type": "execute_result",
          "data": {
            "text/plain": [
              "['01101010110101010101010101010010101010101010110101010010101010',\n",
              " '00100101101100110011001100110110011001101001101100110110011001',\n",
              " '00011100011100001111000011110001111000011000011100001110000111',\n",
              " '00000011111100000000111111110000000111111000000011111110000000',\n",
              " '00000000000011111111111111110000000000000111111111111110000000']"
            ]
          },
          "metadata": {},
          "execution_count": 19
        }
      ]
    },
    {
      "cell_type": "code",
      "source": [
        "F,N,B=5,77,15\n",
        "def dat_bae(N,B,F):\n",
        "    Nb=(N-1).bit_length()\n",
        "    outcols=[format(i,'#0%db'%(Nb+2))[-F:]\n",
        "             for i in range(N)]\n",
        "    incols=N*['']\n",
        "    for j in range(F):\n",
        "        outrow=''.join(\n",
        "            [outcols[i][F-1-j] for i in range(N)])\n",
        "        print(outrow,flush=True)\n",
        "        inrow=input()\n",
        "        for i in range(N-B):\n",
        "            incols[i]=inrow[i]+incols[i]\n",
        "    return outcols,incols\n",
        "outcols,incols=dat_bae(N,B,F)\n",
        "print(outcols[:12]); print(incols[:12])"
      ],
      "metadata": {
        "colab": {
          "base_uri": "https://localhost:8080/"
        },
        "id": "HK9ao3x6GmWC",
        "outputId": "d7ae9e0f-b56e-4ceb-d2cf-dfe6dae33323"
      },
      "execution_count": null,
      "outputs": [
        {
          "output_type": "stream",
          "name": "stdout",
          "text": [
            "01010101010101010101010101010101010101010101010101010101010101010101010101010\n",
            "01101010110101010101010101010010101010101010110101010010101010\n",
            "00110011001100110011001100110011001100110011001100110011001100110011001100110\n",
            "00100101101100110011001100110110011001101001101100110110011001\n",
            "00001111000011110000111100001111000011110000111100001111000011110000111100001\n",
            "00011100011100001111000011110001111000011000011100001110000111\n",
            "00000000111111110000000011111111000000001111111100000000111111110000000011111\n",
            "00000011111100000000111111110000000111111000000011111110000000\n",
            "00000000000000001111111111111111000000000000000011111111111111110000000000000\n",
            "00000000000011111111111111110000000000000111111111111110000000\n",
            "['00000', '00001', '00010', '00011', '00100', '00101', '00110', '00111', '01000', '01001', '01010', '01011']\n",
            "['00000', '00001', '00011', '00100', '00101', '00110', '01001', '01010', '01011', '01101', '01110', '01111']\n"
          ]
        }
      ]
    },
    {
      "cell_type": "code",
      "source": [
        "N,B,K=77,15,32\n",
        "Kb=(K-1).bit_length() #Kb==F\n",
        "exp_result=[2,7,8,12,33,45,46,52,61,71,72,73,74,75,76]\n",
        "outcol=[format(i,'#0%db'%(Kb+2))[2:] for i in range(K)]\n",
        "outcols=[outcol[j%K] for j in range(N)]\n",
        "print(outcols[61:])\n",
        "inrows=\\\n",
        "['01101010110101010101010101010010101010101010110101010010101010',\n",
        " '00100101101100110011001100110110011001101001101100110110011001',\n",
        " '00011100011100001111000011110001111000011000011100001110000111',\n",
        " '00000011111100000000111111110000000111111000000011111110000000',\n",
        " '00000000000011111111111111110000000000000111111111111110000000']\n",
        "incols=N*['']\n",
        "for j in range(Kb):\n",
        "    for i in range(N-B):\n",
        "        incols[i]=inrows[j][i]+incols[i]\n",
        "print(incols[61:])"
      ],
      "metadata": {
        "colab": {
          "base_uri": "https://localhost:8080/"
        },
        "id": "SpGo92X0JXTa",
        "outputId": "3af6a70c-82ef-4a30-8e88-e132926e5d0b"
      },
      "execution_count": null,
      "outputs": [
        {
          "output_type": "stream",
          "name": "stdout",
          "text": [
            "['11101', '11110', '11111', '00000', '00001', '00010', '00011', '00100', '00101', '00110', '00111', '01000', '01001', '01010', '01011', '01100']\n",
            "['00110', '', '', '', '', '', '', '', '', '', '', '', '', '', '', '']\n"
          ]
        }
      ]
    },
    {
      "cell_type": "code",
      "source": [
        "def dat_bae32(N,B):\n",
        "    K=32; Kb=K.bit_length()-1\n",
        "    outcol=[format(i,'#0%db'%(Kb+2))[2:] for i in range(K)]\n",
        "    outcols=[outcol[j%K] for j in range(N)]\n",
        "    incols=(N-B)*['']\n",
        "    for j in range(Kb):\n",
        "        row=[outcol[i][Kb-j-1] for i in range(K)]\n",
        "        outrow=[row[j%K] for j in range(N)]\n",
        "        outstr=''.join(outrow)\n",
        "        print(outstr,flush=True)\n",
        "        inrow=input()\n",
        "        for i in range(N-B):\n",
        "            incols[i]=inrow[i]+incols[i]\n",
        "    return incols,outcols\n",
        "incols,outcols=dat_bae32(N,B)\n",
        "print(outcols[58:])\n",
        "print(incols[58:])"
      ],
      "metadata": {
        "colab": {
          "base_uri": "https://localhost:8080/"
        },
        "id": "cc9xlk_stgrR",
        "outputId": "f78be189-f1f3-4f5e-e573-b7fd1b4d5cd6"
      },
      "execution_count": null,
      "outputs": [
        {
          "output_type": "stream",
          "name": "stdout",
          "text": [
            "01010101010101010101010101010101010101010101010101010101010101010101010101010\n",
            "01101010110101010101010101010010101010101010110101010010101010\n",
            "00110011001100110011001100110011001100110011001100110011001100110011001100110\n",
            "00100101101100110011001100110110011001101001101100110110011001\n",
            "00001111000011110000111100001111000011110000111100001111000011110000111100001\n",
            "00011100011100001111000011110001111000011000011100001110000111\n",
            "00000000111111110000000011111111000000001111111100000000111111110000000011111\n",
            "00000011111100000000111111110000000111111000000011111110000000\n",
            "00000000000000001111111111111111000000000000000011111111111111110000000000000\n",
            "00000000000011111111111111110000000000000111111111111110000000\n",
            "['11010', '11011', '11100', '11101', '11110', '11111', '00000', '00001', '00010', '00011', '00100', '00101', '00110', '00111', '01000', '01001', '01010', '01011', '01100']\n",
            "['00011', '00100', '00101', '00110']\n"
          ]
        }
      ]
    },
    {
      "cell_type": "code",
      "source": [
        "def dat_bae_answer(N,B,incols,outcols):\n",
        "    answer,boolean_answer,L=[],False,16\n",
        "    K,la=(N-B)//L+1,len(answer)\n",
        "    for k in range(K+1):\n",
        "        curr_incols=incols[L*k-la:L*(k+1)-la]\n",
        "        curr_outcols=outcols[L*k:L*(k+1)]\n",
        "        for i in range(len(curr_outcols)):\n",
        "            if curr_outcols[i] not in curr_incols:\n",
        "                answer.append(L*k+i)\n",
        "                la=len(answer)\n",
        "                if la==B:\n",
        "                    booleban_answer=True\n",
        "                    break\n",
        "        if boolean_answer:\n",
        "            break\n",
        "    return answer\n",
        "answer=dat_bae_answer(N,B,incols,outcols)\n",
        "answer==exp_result"
      ],
      "metadata": {
        "colab": {
          "base_uri": "https://localhost:8080/"
        },
        "id": "N_brpSwr8K0-",
        "outputId": "17a4180e-53b1-4d74-8eca-9a280a01061b"
      },
      "execution_count": null,
      "outputs": [
        {
          "output_type": "execute_result",
          "data": {
            "text/plain": [
              "True"
            ]
          },
          "metadata": {},
          "execution_count": 39
        }
      ]
    },
    {
      "cell_type": "markdown",
      "source": [
        "## Decision Variants"
      ],
      "metadata": {
        "id": "13NGp4XETAwC"
      }
    },
    {
      "cell_type": "code",
      "execution_count": null,
      "metadata": {
        "id": "e49905VYQSt8",
        "colab": {
          "base_uri": "https://localhost:8080/"
        },
        "outputId": "5f9dfb05-1f21-4ec4-cdb1-43d3c9206bc1"
      },
      "outputs": [
        {
          "name": "stdout",
          "output_type": "stream",
          "text": [
            "1\n",
            "18 4 10\n",
            "010101010101010101\n",
            "01010101010101\n",
            "001100110011001100\n",
            "00110011001100\n",
            "000011110000111100\n",
            "00001111001100\n",
            "000000001111111100\n",
            "00000000111100\n",
            "000000000000000011\n",
            "00000000000011\n",
            "10 11 12 13\n",
            "1\n"
          ]
        }
      ],
      "source": [
        "def dat_bae(N,B,F):\n",
        "    Nb=(N-1).bit_length()\n",
        "    outcols=[format(i,'#0%db'%(Nb+2))[2:]\n",
        "             for i in range(N)]\n",
        "    incols=N*['']\n",
        "    for j in range(Nb):\n",
        "        if j>F-1:\n",
        "            break\n",
        "        outrow=''.join(\n",
        "            [outcols[i][Nb-j-1] for i in range(N)])\n",
        "        print(outrow,flush=True)\n",
        "        inrow=input()\n",
        "        for i in range(N-B):\n",
        "            incols[i]=inrow[i]+incols[i]\n",
        "    answer=[]\n",
        "    for i in range(N):\n",
        "        if len(answer)>B:\n",
        "            break\n",
        "        if outcols[i] not in incols:\n",
        "            answer.append(i)\n",
        "    print(' '.join(map(str,answer)),flush=True)\n",
        "    ans=input()\n",
        "    if ans!='1':  \n",
        "        exit()              \n",
        "T=int(input())\n",
        "for i in range(T):\n",
        "    N,B,F=map(int,input().split())\n",
        "    dat_bae(N,B,F)"
      ]
    },
    {
      "cell_type": "code",
      "source": [
        "def dat_bae_cols(N,B,F):\n",
        "    Nb=(N-1).bit_length()\n",
        "    outcols=[format(i,'#0%db'%(Nb+2))[2:]\n",
        "             for i in range(N)]\n",
        "    incols=N*['']\n",
        "    for j in range(Nb):\n",
        "        if j>F-1:\n",
        "            break\n",
        "        outrow=''.join(\n",
        "            [outcols[i][Nb-j-1] for i in range(N)])\n",
        "        print(outrow,flush=True)\n",
        "        inrow=input()\n",
        "        for i in range(N-B):\n",
        "            incols[i]=inrow[i]+incols[i]\n",
        "    return outcols,incols\n",
        "def dat_bae_ans(N,B,F,outcols,incols):    \n",
        "    answer=[]\n",
        "    for i in range(N):\n",
        "        if outcols[i] not in incols:\n",
        "            answer.append(i)\n",
        "            if len(answer)==B:\n",
        "                break\n",
        "    return answer\n",
        "def dat_bae_fans(N,B,F,outcols,incols):    \n",
        "    answer,boolean_answer,L=[],False,16\n",
        "    K,la=(N-B)//L+1,len(answer)\n",
        "    for k in range(K+1):\n",
        "        curr_incols=incols[L*k-la:L*(k+1)-la]\n",
        "        curr_outcols=outcols[L*k:L*(k+1)]\n",
        "        for i in range(len(curr_outcols)):\n",
        "            if curr_outcols[i][-F:] not in curr_incols:\n",
        "                answer.append(L*k+i)\n",
        "                la=len(answer)\n",
        "                if la==B:\n",
        "                    booleban_answer=True\n",
        "                    break\n",
        "        if boolean_answer:\n",
        "            break\n",
        "    return answer \n",
        "T=int(input())\n",
        "for i in range(T):\n",
        "    N,B,F=map(int,input().split())\n",
        "    outcols,incols=dat_bae_cols(N,B,F)\n",
        "    if len(outcols[0])==len(incols[0]):\n",
        "        answer=dat_bae_ans(N,B,F,outcols,incols)\n",
        "    else:\n",
        "        answer=dat_bae_fans(N,B,F,outcols,incols)\n",
        "    print(' '.join(map(str,answer)),flush=True)\n",
        "    ans=input()\n",
        "    if ans!='1':  \n",
        "        exit() "
      ],
      "metadata": {
        "colab": {
          "base_uri": "https://localhost:8080/"
        },
        "id": "OmtJ2TY5XXb-",
        "outputId": "bf564c81-1d16-49a4-be20-246c9a989400"
      },
      "execution_count": null,
      "outputs": [
        {
          "name": "stdout",
          "output_type": "stream",
          "text": [
            "1\n",
            "77 15 5\n",
            "01010101010101010101010101010101010101010101010101010101010101010101010101010\n",
            "01101010110101010101010101010010101010101010110101010010101010\n",
            "00110011001100110011001100110011001100110011001100110011001100110011001100110\n",
            "00100101101100110011001100110110011001101001101100110110011001\n",
            "00001111000011110000111100001111000011110000111100001111000011110000111100001\n",
            "00011100011100001111000011110001111000011000011100001110000111\n",
            "00000000111111110000000011111111000000001111111100000000111111110000000011111\n",
            "00000011111100000000111111110000000111111000000011111110000000\n",
            "00000000000000001111111111111111000000000000000011111111111111110000000000000\n",
            "00000000000011111111111111110000000000000111111111111110000000\n",
            "2 7 8 12 33 45 46 52 61 71 72 73 74 75 76\n",
            "1\n"
          ]
        }
      ]
    },
    {
      "cell_type": "code",
      "source": [
        "['01101010110101010101010101010010101010101010110101010010101010',\n",
        " '00100101101100110011001100110110011001101001101100110110011001',\n",
        " '00011100011100001111000011110001111000011000011100001110000111',\n",
        " '00000011111100000000111111110000000111111000000011111110000000',\n",
        " '00000000000011111111111111110000000000000111111111111110000000']"
      ],
      "metadata": {
        "colab": {
          "base_uri": "https://localhost:8080/"
        },
        "id": "FBO219MHaWTA",
        "outputId": "4abc7499-fb7f-4fb5-c961-654e97acc02d"
      },
      "execution_count": null,
      "outputs": [
        {
          "output_type": "execute_result",
          "data": {
            "text/plain": [
              "['01101010110101010101010101010010101010101010110101010010101010',\n",
              " '00100101101100110011001100110110011001101001101100110110011001',\n",
              " '00011100011100001111000011110001111000011000011100001110000111',\n",
              " '00000011111100000000111111110000000111111000000011111110000000',\n",
              " '00000000000011111111111111110000000000000111111111111110000000']"
            ]
          },
          "metadata": {},
          "execution_count": 40
        }
      ]
    },
    {
      "cell_type": "code",
      "source": [
        "#14pts,20pts ✓ ✓\n",
        "def dat_bae_cols(N,B,F):\n",
        "    Nb=(N-1).bit_length()\n",
        "    outcols=[format(i,'#0%db'%(Nb+2))[2:] for i in range(N)]\n",
        "    incols=N*['']\n",
        "    for j in range(Nb):\n",
        "        if j>F-1:\n",
        "            break\n",
        "        outrow=''.join([outcols[i][Nb-j-1] for i in range(N)])\n",
        "        print(outrow,flush=True)\n",
        "        inrow=input()\n",
        "        for i in range(N-B):\n",
        "            incols[i]=inrow[i]+incols[i]\n",
        "    return outcols,incols\n",
        "def dat_bae_fans(N,B,F,outcols,incols):    \n",
        "    answer,boolean_answer,L=[],False,16\n",
        "    K,la=(N-B)//L+1,len(answer)\n",
        "    for k in range(K+1):\n",
        "        curr_incols=incols[L*k-la:L*(k+1)-la]\n",
        "        curr_outcols=outcols[L*k:L*(k+1)]\n",
        "        for i in range(len(curr_outcols)):\n",
        "            if curr_outcols[i][-F:] not in curr_incols:\n",
        "                answer.append(L*k+i)\n",
        "                la=len(answer)\n",
        "                if la==B:\n",
        "                    booleban_answer=True\n",
        "                    break\n",
        "        if boolean_answer:\n",
        "            break\n",
        "    return answer \n",
        "T=int(input())\n",
        "for i in range(T):\n",
        "    N,B,F=map(int,input().split())\n",
        "    outcols,incols=dat_bae_cols(N,B,F)\n",
        "    answer=dat_bae_fans(N,B,F,outcols,incols)\n",
        "    print(' '.join(map(str,answer)),flush=True)\n",
        "    ans=input()\n",
        "    if ans!='1':  \n",
        "        exit() "
      ],
      "metadata": {
        "id": "IJLaXdXOP2VS"
      },
      "execution_count": null,
      "outputs": []
    }
  ],
  "metadata": {
    "kernelspec": {
      "display_name": "Python 3",
      "language": "python",
      "name": "python3"
    },
    "language_info": {
      "codemirror_mode": {
        "name": "ipython",
        "version": 3
      },
      "file_extension": ".py",
      "mimetype": "text/x-python",
      "name": "python",
      "nbconvert_exporter": "python",
      "pygments_lexer": "ipython3",
      "version": "3.7.3"
    },
    "colab": {
      "name": "codejamQ2019.ipynb",
      "provenance": [],
      "collapsed_sections": []
    }
  },
  "nbformat": 4,
  "nbformat_minor": 0
}